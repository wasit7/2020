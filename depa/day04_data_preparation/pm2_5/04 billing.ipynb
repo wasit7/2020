{
 "cells": [
  {
   "cell_type": "code",
   "execution_count": 1,
   "metadata": {},
   "outputs": [],
   "source": [
    "import pandas as pd"
   ]
  },
  {
   "cell_type": "code",
   "execution_count": 2,
   "metadata": {
    "scrolled": true
   },
   "outputs": [],
   "source": [
    "df=pd.read_excel('export-VW_BILLINGTRANS_TEMP-AI.xlsx')"
   ]
  },
  {
   "cell_type": "code",
   "execution_count": 3,
   "metadata": {},
   "outputs": [
    {
     "data": {
      "text/html": [
       "<div>\n",
       "<style scoped>\n",
       "    .dataframe tbody tr th:only-of-type {\n",
       "        vertical-align: middle;\n",
       "    }\n",
       "\n",
       "    .dataframe tbody tr th {\n",
       "        vertical-align: top;\n",
       "    }\n",
       "\n",
       "    .dataframe thead th {\n",
       "        text-align: right;\n",
       "    }\n",
       "</style>\n",
       "<table border=\"1\" class=\"dataframe\">\n",
       "  <thead>\n",
       "    <tr style=\"text-align: right;\">\n",
       "      <th></th>\n",
       "      <th>ID</th>\n",
       "      <th>CLIENT_ID</th>\n",
       "      <th>CLIENT_FID</th>\n",
       "      <th>BMONTH</th>\n",
       "      <th>FROM_DATE</th>\n",
       "      <th>TO_DATE</th>\n",
       "      <th>VOLUME</th>\n",
       "      <th>MASS</th>\n",
       "      <th>ENERGY</th>\n",
       "      <th>HV</th>\n",
       "      <th>...</th>\n",
       "      <th>REV_NO</th>\n",
       "      <th>LASTEDIT</th>\n",
       "      <th>USERNAME</th>\n",
       "      <th>CUST_ID</th>\n",
       "      <th>DAY_ORDER</th>\n",
       "      <th>DATAEXIST</th>\n",
       "      <th>CLIENT_NAME</th>\n",
       "      <th>LAST_UPDATED</th>\n",
       "      <th>FIRST_CREATED</th>\n",
       "      <th>CLIENT_TYPE</th>\n",
       "    </tr>\n",
       "  </thead>\n",
       "  <tbody>\n",
       "    <tr>\n",
       "      <th>0</th>\n",
       "      <td>648045</td>\n",
       "      <td>CLI01516</td>\n",
       "      <td>1_LABIX</td>\n",
       "      <td>01-FEB-20</td>\n",
       "      <td>17-FEB-20</td>\n",
       "      <td>17-FEB-20</td>\n",
       "      <td>6.512143</td>\n",
       "      <td>135.585</td>\n",
       "      <td>6472.81</td>\n",
       "      <td>993.960</td>\n",
       "      <td>...</td>\n",
       "      <td>1</td>\n",
       "      <td>18-FEB-20</td>\n",
       "      <td>AUTO_BILLING</td>\n",
       "      <td>10023379</td>\n",
       "      <td>17</td>\n",
       "      <td>-1</td>\n",
       "      <td>LABIX COMPANY LIMITED</td>\n",
       "      <td>18-FEB-20 05.42.04.634622000 AM</td>\n",
       "      <td>18-FEB-20 05.41.25.320186000 AM</td>\n",
       "      <td>IND</td>\n",
       "    </tr>\n",
       "    <tr>\n",
       "      <th>1</th>\n",
       "      <td>648141</td>\n",
       "      <td>CLI01366</td>\n",
       "      <td>1_TF</td>\n",
       "      <td>01-FEB-20</td>\n",
       "      <td>17-FEB-20</td>\n",
       "      <td>17-FEB-20</td>\n",
       "      <td>0.457262</td>\n",
       "      <td>9.520</td>\n",
       "      <td>453.46</td>\n",
       "      <td>991.686</td>\n",
       "      <td>...</td>\n",
       "      <td>1</td>\n",
       "      <td>18-FEB-20</td>\n",
       "      <td>AUTO_BILLING</td>\n",
       "      <td>10001621</td>\n",
       "      <td>17</td>\n",
       "      <td>-1</td>\n",
       "      <td>THAI PRESIDENT FOODS PUBLIC CO.,LTD.</td>\n",
       "      <td>18-FEB-20 07.07.46.585168000 AM</td>\n",
       "      <td>18-FEB-20 07.06.57.175715000 AM</td>\n",
       "      <td>IND</td>\n",
       "    </tr>\n",
       "    <tr>\n",
       "      <th>2</th>\n",
       "      <td>648180</td>\n",
       "      <td>CLI00339</td>\n",
       "      <td>ANK</td>\n",
       "      <td>01-FEB-20</td>\n",
       "      <td>17-FEB-20</td>\n",
       "      <td>17-FEB-20</td>\n",
       "      <td>11.368878</td>\n",
       "      <td>236.305</td>\n",
       "      <td>11250.22</td>\n",
       "      <td>989.563</td>\n",
       "      <td>...</td>\n",
       "      <td>1</td>\n",
       "      <td>18-FEB-20</td>\n",
       "      <td>AUTO_BILLING</td>\n",
       "      <td>-</td>\n",
       "      <td>17</td>\n",
       "      <td>-1</td>\n",
       "      <td>AMATA Natural Gas Distribution Co.,Ltd. (Amata...</td>\n",
       "      <td>18-FEB-20 07.40.50.293482000 AM</td>\n",
       "      <td>18-FEB-20 07.40.15.126264000 AM</td>\n",
       "      <td>NGD</td>\n",
       "    </tr>\n",
       "    <tr>\n",
       "      <th>3</th>\n",
       "      <td>647716</td>\n",
       "      <td>CLI01040</td>\n",
       "      <td>BPK1</td>\n",
       "      <td>01-FEB-20</td>\n",
       "      <td>17-FEB-20</td>\n",
       "      <td>17-FEB-20</td>\n",
       "      <td>65.438539</td>\n",
       "      <td>1363.000</td>\n",
       "      <td>65045.00</td>\n",
       "      <td>993.986</td>\n",
       "      <td>...</td>\n",
       "      <td>2</td>\n",
       "      <td>18-FEB-20</td>\n",
       "      <td>AUTO_BILLING</td>\n",
       "      <td>-</td>\n",
       "      <td>17</td>\n",
       "      <td>-1</td>\n",
       "      <td>BANG PAKONG POWER PLANT 1</td>\n",
       "      <td>18-FEB-20 01.26.04.425610000 AM</td>\n",
       "      <td>18-FEB-20 01.25.19.943006000 AM</td>\n",
       "      <td>EGAT</td>\n",
       "    </tr>\n",
       "    <tr>\n",
       "      <th>4</th>\n",
       "      <td>647754</td>\n",
       "      <td>CLI00279</td>\n",
       "      <td>GLOW11</td>\n",
       "      <td>01-FEB-20</td>\n",
       "      <td>17-FEB-20</td>\n",
       "      <td>17-FEB-20</td>\n",
       "      <td>19.489536</td>\n",
       "      <td>405.774</td>\n",
       "      <td>19327.62</td>\n",
       "      <td>991.692</td>\n",
       "      <td>...</td>\n",
       "      <td>1</td>\n",
       "      <td>18-FEB-20</td>\n",
       "      <td>AUTO_BILLING</td>\n",
       "      <td>1111111</td>\n",
       "      <td>17</td>\n",
       "      <td>-1</td>\n",
       "      <td>GLOWSPP11 Company Limited.</td>\n",
       "      <td>18-FEB-20 01.51.42.840762000 AM</td>\n",
       "      <td>18-FEB-20 01.51.07.065012000 AM</td>\n",
       "      <td>SPP</td>\n",
       "    </tr>\n",
       "  </tbody>\n",
       "</table>\n",
       "<p>5 rows × 24 columns</p>\n",
       "</div>"
      ],
      "text/plain": [
       "       ID CLIENT_ID CLIENT_FID     BMONTH  FROM_DATE    TO_DATE     VOLUME  \\\n",
       "0  648045  CLI01516    1_LABIX  01-FEB-20  17-FEB-20  17-FEB-20   6.512143   \n",
       "1  648141  CLI01366       1_TF  01-FEB-20  17-FEB-20  17-FEB-20   0.457262   \n",
       "2  648180  CLI00339        ANK  01-FEB-20  17-FEB-20  17-FEB-20  11.368878   \n",
       "3  647716  CLI01040       BPK1  01-FEB-20  17-FEB-20  17-FEB-20  65.438539   \n",
       "4  647754  CLI00279     GLOW11  01-FEB-20  17-FEB-20  17-FEB-20  19.489536   \n",
       "\n",
       "       MASS    ENERGY       HV  ...  REV_NO   LASTEDIT      USERNAME  \\\n",
       "0   135.585   6472.81  993.960  ...       1  18-FEB-20  AUTO_BILLING   \n",
       "1     9.520    453.46  991.686  ...       1  18-FEB-20  AUTO_BILLING   \n",
       "2   236.305  11250.22  989.563  ...       1  18-FEB-20  AUTO_BILLING   \n",
       "3  1363.000  65045.00  993.986  ...       2  18-FEB-20  AUTO_BILLING   \n",
       "4   405.774  19327.62  991.692  ...       1  18-FEB-20  AUTO_BILLING   \n",
       "\n",
       "    CUST_ID  DAY_ORDER DATAEXIST  \\\n",
       "0  10023379         17        -1   \n",
       "1  10001621         17        -1   \n",
       "2         -         17        -1   \n",
       "3         -         17        -1   \n",
       "4   1111111         17        -1   \n",
       "\n",
       "                                         CLIENT_NAME  \\\n",
       "0                              LABIX COMPANY LIMITED   \n",
       "1               THAI PRESIDENT FOODS PUBLIC CO.,LTD.   \n",
       "2  AMATA Natural Gas Distribution Co.,Ltd. (Amata...   \n",
       "3                          BANG PAKONG POWER PLANT 1   \n",
       "4                         GLOWSPP11 Company Limited.   \n",
       "\n",
       "                      LAST_UPDATED                    FIRST_CREATED  \\\n",
       "0  18-FEB-20 05.42.04.634622000 AM  18-FEB-20 05.41.25.320186000 AM   \n",
       "1  18-FEB-20 07.07.46.585168000 AM  18-FEB-20 07.06.57.175715000 AM   \n",
       "2  18-FEB-20 07.40.50.293482000 AM  18-FEB-20 07.40.15.126264000 AM   \n",
       "3  18-FEB-20 01.26.04.425610000 AM  18-FEB-20 01.25.19.943006000 AM   \n",
       "4  18-FEB-20 01.51.42.840762000 AM  18-FEB-20 01.51.07.065012000 AM   \n",
       "\n",
       "   CLIENT_TYPE  \n",
       "0          IND  \n",
       "1          IND  \n",
       "2          NGD  \n",
       "3         EGAT  \n",
       "4          SPP  \n",
       "\n",
       "[5 rows x 24 columns]"
      ]
     },
     "execution_count": 3,
     "metadata": {},
     "output_type": "execute_result"
    }
   ],
   "source": [
    "df.head()"
   ]
  },
  {
   "cell_type": "code",
   "execution_count": 4,
   "metadata": {},
   "outputs": [
    {
     "data": {
      "text/plain": [
       "Index(['ID', 'CLIENT_ID', 'CLIENT_FID', 'BMONTH', 'FROM_DATE', 'TO_DATE',\n",
       "       'VOLUME', 'MASS', 'ENERGY', 'HV', 'SG', 'TEMP_FLAG', 'DOC_FLAG',\n",
       "       'LATEST_FLAG', 'REV_NO', 'LASTEDIT', 'USERNAME', 'CUST_ID', 'DAY_ORDER',\n",
       "       'DATAEXIST', 'CLIENT_NAME', 'LAST_UPDATED', 'FIRST_CREATED',\n",
       "       'CLIENT_TYPE'],\n",
       "      dtype='object')"
      ]
     },
     "execution_count": 4,
     "metadata": {},
     "output_type": "execute_result"
    }
   ],
   "source": [
    "df.columns"
   ]
  },
  {
   "cell_type": "code",
   "execution_count": 5,
   "metadata": {},
   "outputs": [],
   "source": [
    "column=['CLIENT_ID', 'CLIENT_FID', 'BMONTH', 'FROM_DATE', 'TO_DATE',\n",
    "       'VOLUME', 'MASS', 'ENERGY', 'HV','CLIENT_TYPE']"
   ]
  },
  {
   "cell_type": "code",
   "execution_count": 6,
   "metadata": {},
   "outputs": [
    {
     "data": {
      "text/html": [
       "<div>\n",
       "<style scoped>\n",
       "    .dataframe tbody tr th:only-of-type {\n",
       "        vertical-align: middle;\n",
       "    }\n",
       "\n",
       "    .dataframe tbody tr th {\n",
       "        vertical-align: top;\n",
       "    }\n",
       "\n",
       "    .dataframe thead th {\n",
       "        text-align: right;\n",
       "    }\n",
       "</style>\n",
       "<table border=\"1\" class=\"dataframe\">\n",
       "  <thead>\n",
       "    <tr style=\"text-align: right;\">\n",
       "      <th></th>\n",
       "      <th>CLIENT_ID</th>\n",
       "      <th>CLIENT_FID</th>\n",
       "      <th>BMONTH</th>\n",
       "      <th>FROM_DATE</th>\n",
       "      <th>TO_DATE</th>\n",
       "      <th>VOLUME</th>\n",
       "      <th>MASS</th>\n",
       "      <th>ENERGY</th>\n",
       "      <th>HV</th>\n",
       "      <th>CLIENT_TYPE</th>\n",
       "    </tr>\n",
       "  </thead>\n",
       "  <tbody>\n",
       "    <tr>\n",
       "      <th>0</th>\n",
       "      <td>CLI01516</td>\n",
       "      <td>1_LABIX</td>\n",
       "      <td>01-FEB-20</td>\n",
       "      <td>17-FEB-20</td>\n",
       "      <td>17-FEB-20</td>\n",
       "      <td>6.512143</td>\n",
       "      <td>135.585</td>\n",
       "      <td>6472.81</td>\n",
       "      <td>993.960</td>\n",
       "      <td>IND</td>\n",
       "    </tr>\n",
       "    <tr>\n",
       "      <th>1</th>\n",
       "      <td>CLI01366</td>\n",
       "      <td>1_TF</td>\n",
       "      <td>01-FEB-20</td>\n",
       "      <td>17-FEB-20</td>\n",
       "      <td>17-FEB-20</td>\n",
       "      <td>0.457262</td>\n",
       "      <td>9.520</td>\n",
       "      <td>453.46</td>\n",
       "      <td>991.686</td>\n",
       "      <td>IND</td>\n",
       "    </tr>\n",
       "    <tr>\n",
       "      <th>2</th>\n",
       "      <td>CLI00339</td>\n",
       "      <td>ANK</td>\n",
       "      <td>01-FEB-20</td>\n",
       "      <td>17-FEB-20</td>\n",
       "      <td>17-FEB-20</td>\n",
       "      <td>11.368878</td>\n",
       "      <td>236.305</td>\n",
       "      <td>11250.22</td>\n",
       "      <td>989.563</td>\n",
       "      <td>NGD</td>\n",
       "    </tr>\n",
       "    <tr>\n",
       "      <th>3</th>\n",
       "      <td>CLI01040</td>\n",
       "      <td>BPK1</td>\n",
       "      <td>01-FEB-20</td>\n",
       "      <td>17-FEB-20</td>\n",
       "      <td>17-FEB-20</td>\n",
       "      <td>65.438539</td>\n",
       "      <td>1363.000</td>\n",
       "      <td>65045.00</td>\n",
       "      <td>993.986</td>\n",
       "      <td>EGAT</td>\n",
       "    </tr>\n",
       "    <tr>\n",
       "      <th>4</th>\n",
       "      <td>CLI00279</td>\n",
       "      <td>GLOW11</td>\n",
       "      <td>01-FEB-20</td>\n",
       "      <td>17-FEB-20</td>\n",
       "      <td>17-FEB-20</td>\n",
       "      <td>19.489536</td>\n",
       "      <td>405.774</td>\n",
       "      <td>19327.62</td>\n",
       "      <td>991.692</td>\n",
       "      <td>SPP</td>\n",
       "    </tr>\n",
       "  </tbody>\n",
       "</table>\n",
       "</div>"
      ],
      "text/plain": [
       "  CLIENT_ID CLIENT_FID     BMONTH  FROM_DATE    TO_DATE     VOLUME      MASS  \\\n",
       "0  CLI01516    1_LABIX  01-FEB-20  17-FEB-20  17-FEB-20   6.512143   135.585   \n",
       "1  CLI01366       1_TF  01-FEB-20  17-FEB-20  17-FEB-20   0.457262     9.520   \n",
       "2  CLI00339        ANK  01-FEB-20  17-FEB-20  17-FEB-20  11.368878   236.305   \n",
       "3  CLI01040       BPK1  01-FEB-20  17-FEB-20  17-FEB-20  65.438539  1363.000   \n",
       "4  CLI00279     GLOW11  01-FEB-20  17-FEB-20  17-FEB-20  19.489536   405.774   \n",
       "\n",
       "     ENERGY       HV CLIENT_TYPE  \n",
       "0   6472.81  993.960         IND  \n",
       "1    453.46  991.686         IND  \n",
       "2  11250.22  989.563         NGD  \n",
       "3  65045.00  993.986        EGAT  \n",
       "4  19327.62  991.692         SPP  "
      ]
     },
     "execution_count": 6,
     "metadata": {},
     "output_type": "execute_result"
    }
   ],
   "source": [
    "df2=df.loc[:,column]\n",
    "df2.head()"
   ]
  },
  {
   "cell_type": "code",
   "execution_count": 7,
   "metadata": {
    "scrolled": true
   },
   "outputs": [
    {
     "data": {
      "text/html": [
       "<div>\n",
       "<style scoped>\n",
       "    .dataframe tbody tr th:only-of-type {\n",
       "        vertical-align: middle;\n",
       "    }\n",
       "\n",
       "    .dataframe tbody tr th {\n",
       "        vertical-align: top;\n",
       "    }\n",
       "\n",
       "    .dataframe thead th {\n",
       "        text-align: right;\n",
       "    }\n",
       "</style>\n",
       "<table border=\"1\" class=\"dataframe\">\n",
       "  <thead>\n",
       "    <tr style=\"text-align: right;\">\n",
       "      <th></th>\n",
       "      <th>CLIENT_ID</th>\n",
       "      <th>CLIENT_FID</th>\n",
       "      <th>BMONTH</th>\n",
       "      <th>FROM_DATE</th>\n",
       "      <th>TO_DATE</th>\n",
       "      <th>VOLUME</th>\n",
       "      <th>MASS</th>\n",
       "      <th>ENERGY</th>\n",
       "      <th>HV</th>\n",
       "      <th>CLIENT_TYPE</th>\n",
       "    </tr>\n",
       "  </thead>\n",
       "  <tbody>\n",
       "    <tr>\n",
       "      <th>0</th>\n",
       "      <td>CLI01516</td>\n",
       "      <td>1_LABIX</td>\n",
       "      <td>01-FEB-20</td>\n",
       "      <td>17-FEB-20</td>\n",
       "      <td>17-FEB-20</td>\n",
       "      <td>6.512143</td>\n",
       "      <td>135.585</td>\n",
       "      <td>6472.81</td>\n",
       "      <td>993.960</td>\n",
       "      <td>IND</td>\n",
       "    </tr>\n",
       "    <tr>\n",
       "      <th>10</th>\n",
       "      <td>CLI01516</td>\n",
       "      <td>1_LABIX</td>\n",
       "      <td>01-FEB-20</td>\n",
       "      <td>16-FEB-20</td>\n",
       "      <td>16-FEB-20</td>\n",
       "      <td>6.600123</td>\n",
       "      <td>139.082</td>\n",
       "      <td>6494.71</td>\n",
       "      <td>984.029</td>\n",
       "      <td>IND</td>\n",
       "    </tr>\n",
       "    <tr>\n",
       "      <th>21</th>\n",
       "      <td>CLI01516</td>\n",
       "      <td>1_LABIX</td>\n",
       "      <td>01-FEB-20</td>\n",
       "      <td>15-FEB-20</td>\n",
       "      <td>15-FEB-20</td>\n",
       "      <td>6.583986</td>\n",
       "      <td>140.921</td>\n",
       "      <td>6501.28</td>\n",
       "      <td>987.438</td>\n",
       "      <td>IND</td>\n",
       "    </tr>\n",
       "    <tr>\n",
       "      <th>32</th>\n",
       "      <td>CLI01516</td>\n",
       "      <td>1_LABIX</td>\n",
       "      <td>01-FEB-20</td>\n",
       "      <td>14-FEB-20</td>\n",
       "      <td>14-FEB-20</td>\n",
       "      <td>6.601273</td>\n",
       "      <td>139.197</td>\n",
       "      <td>6513.36</td>\n",
       "      <td>986.682</td>\n",
       "      <td>IND</td>\n",
       "    </tr>\n",
       "    <tr>\n",
       "      <th>43</th>\n",
       "      <td>CLI01516</td>\n",
       "      <td>1_LABIX</td>\n",
       "      <td>01-FEB-20</td>\n",
       "      <td>13-FEB-20</td>\n",
       "      <td>13-FEB-20</td>\n",
       "      <td>6.644149</td>\n",
       "      <td>145.291</td>\n",
       "      <td>6514.25</td>\n",
       "      <td>980.449</td>\n",
       "      <td>IND</td>\n",
       "    </tr>\n",
       "  </tbody>\n",
       "</table>\n",
       "</div>"
      ],
      "text/plain": [
       "   CLIENT_ID CLIENT_FID     BMONTH  FROM_DATE    TO_DATE    VOLUME     MASS  \\\n",
       "0   CLI01516    1_LABIX  01-FEB-20  17-FEB-20  17-FEB-20  6.512143  135.585   \n",
       "10  CLI01516    1_LABIX  01-FEB-20  16-FEB-20  16-FEB-20  6.600123  139.082   \n",
       "21  CLI01516    1_LABIX  01-FEB-20  15-FEB-20  15-FEB-20  6.583986  140.921   \n",
       "32  CLI01516    1_LABIX  01-FEB-20  14-FEB-20  14-FEB-20  6.601273  139.197   \n",
       "43  CLI01516    1_LABIX  01-FEB-20  13-FEB-20  13-FEB-20  6.644149  145.291   \n",
       "\n",
       "     ENERGY       HV CLIENT_TYPE  \n",
       "0   6472.81  993.960         IND  \n",
       "10  6494.71  984.029         IND  \n",
       "21  6501.28  987.438         IND  \n",
       "32  6513.36  986.682         IND  \n",
       "43  6514.25  980.449         IND  "
      ]
     },
     "execution_count": 7,
     "metadata": {},
     "output_type": "execute_result"
    }
   ],
   "source": [
    "df3=df2[df2['CLIENT_ID']=='CLI01516']\n",
    "df3.head()"
   ]
  },
  {
   "cell_type": "code",
   "execution_count": 8,
   "metadata": {},
   "outputs": [
    {
     "name": "stdout",
     "output_type": "stream",
     "text": [
      "<class 'pandas.core.frame.DataFrame'>\n",
      "Int64Index: 438 entries, 0 to 5139\n",
      "Data columns (total 10 columns):\n",
      " #   Column       Non-Null Count  Dtype  \n",
      "---  ------       --------------  -----  \n",
      " 0   CLIENT_ID    438 non-null    object \n",
      " 1   CLIENT_FID   438 non-null    object \n",
      " 2   BMONTH       438 non-null    object \n",
      " 3   FROM_DATE    438 non-null    object \n",
      " 4   TO_DATE      438 non-null    object \n",
      " 5   VOLUME       438 non-null    float64\n",
      " 6   MASS         438 non-null    float64\n",
      " 7   ENERGY       438 non-null    float64\n",
      " 8   HV           438 non-null    float64\n",
      " 9   CLIENT_TYPE  438 non-null    object \n",
      "dtypes: float64(4), object(6)\n",
      "memory usage: 37.6+ KB\n"
     ]
    }
   ],
   "source": [
    "df3.info()"
   ]
  },
  {
   "cell_type": "code",
   "execution_count": 9,
   "metadata": {},
   "outputs": [],
   "source": [
    "from datetime import datetime as dt\n",
    "\n",
    "# Define dates as strings\n",
    "date_str1 = 'Wednesday, June 6, 2018'\n",
    "date_str2 = '6/6/18'\n",
    "date_str3 = '06-06-2018'\n",
    "\n",
    "# Define dates as datetime objects\n",
    "date_dt1 = dt.strptime(date_str1, '%A, %B %d, %Y')\n",
    "date_dt2 = dt.strptime(date_str2, '%m/%d/%y')\n",
    "date_dt3 = dt.strptime(date_str3, '%m-%d-%Y')"
   ]
  },
  {
   "cell_type": "code",
   "execution_count": 10,
   "metadata": {},
   "outputs": [
    {
     "data": {
      "text/plain": [
       "datetime.datetime"
      ]
     },
     "execution_count": 10,
     "metadata": {},
     "output_type": "execute_result"
    }
   ],
   "source": [
    "type(date_dt1)"
   ]
  },
  {
   "cell_type": "code",
   "execution_count": 11,
   "metadata": {},
   "outputs": [
    {
     "data": {
      "text/plain": [
       "datetime.datetime(2020, 2, 1, 0, 0)"
      ]
     },
     "execution_count": 11,
     "metadata": {},
     "output_type": "execute_result"
    }
   ],
   "source": [
    "date_str4 = '01-FEB-20'\n",
    "dt.strptime(date_str4, '%d-%b-%y')"
   ]
  },
  {
   "cell_type": "code",
   "execution_count": 13,
   "metadata": {},
   "outputs": [
    {
     "name": "stderr",
     "output_type": "stream",
     "text": [
      "/home/wasit/miniconda3/envs/tso/lib/python3.6/site-packages/ipykernel_launcher.py:1: SettingWithCopyWarning: \n",
      "A value is trying to be set on a copy of a slice from a DataFrame.\n",
      "Try using .loc[row_indexer,col_indexer] = value instead\n",
      "\n",
      "See the caveats in the documentation: https://pandas.pydata.org/pandas-docs/stable/user_guide/indexing.html#returning-a-view-versus-a-copy\n",
      "  \"\"\"Entry point for launching an IPython kernel.\n"
     ]
    }
   ],
   "source": [
    "df3['from_date']=pd.to_datetime(df3.FROM_DATE,format='%d-%b-%y')"
   ]
  },
  {
   "cell_type": "code",
   "execution_count": 14,
   "metadata": {},
   "outputs": [
    {
     "data": {
      "text/html": [
       "<div>\n",
       "<style scoped>\n",
       "    .dataframe tbody tr th:only-of-type {\n",
       "        vertical-align: middle;\n",
       "    }\n",
       "\n",
       "    .dataframe tbody tr th {\n",
       "        vertical-align: top;\n",
       "    }\n",
       "\n",
       "    .dataframe thead th {\n",
       "        text-align: right;\n",
       "    }\n",
       "</style>\n",
       "<table border=\"1\" class=\"dataframe\">\n",
       "  <thead>\n",
       "    <tr style=\"text-align: right;\">\n",
       "      <th></th>\n",
       "      <th>CLIENT_ID</th>\n",
       "      <th>CLIENT_FID</th>\n",
       "      <th>BMONTH</th>\n",
       "      <th>FROM_DATE</th>\n",
       "      <th>TO_DATE</th>\n",
       "      <th>VOLUME</th>\n",
       "      <th>MASS</th>\n",
       "      <th>ENERGY</th>\n",
       "      <th>HV</th>\n",
       "      <th>CLIENT_TYPE</th>\n",
       "      <th>from_date</th>\n",
       "    </tr>\n",
       "  </thead>\n",
       "  <tbody>\n",
       "    <tr>\n",
       "      <th>0</th>\n",
       "      <td>CLI01516</td>\n",
       "      <td>1_LABIX</td>\n",
       "      <td>01-FEB-20</td>\n",
       "      <td>17-FEB-20</td>\n",
       "      <td>17-FEB-20</td>\n",
       "      <td>6.512143</td>\n",
       "      <td>135.585</td>\n",
       "      <td>6472.81</td>\n",
       "      <td>993.960</td>\n",
       "      <td>IND</td>\n",
       "      <td>2020-02-17</td>\n",
       "    </tr>\n",
       "    <tr>\n",
       "      <th>10</th>\n",
       "      <td>CLI01516</td>\n",
       "      <td>1_LABIX</td>\n",
       "      <td>01-FEB-20</td>\n",
       "      <td>16-FEB-20</td>\n",
       "      <td>16-FEB-20</td>\n",
       "      <td>6.600123</td>\n",
       "      <td>139.082</td>\n",
       "      <td>6494.71</td>\n",
       "      <td>984.029</td>\n",
       "      <td>IND</td>\n",
       "      <td>2020-02-16</td>\n",
       "    </tr>\n",
       "    <tr>\n",
       "      <th>21</th>\n",
       "      <td>CLI01516</td>\n",
       "      <td>1_LABIX</td>\n",
       "      <td>01-FEB-20</td>\n",
       "      <td>15-FEB-20</td>\n",
       "      <td>15-FEB-20</td>\n",
       "      <td>6.583986</td>\n",
       "      <td>140.921</td>\n",
       "      <td>6501.28</td>\n",
       "      <td>987.438</td>\n",
       "      <td>IND</td>\n",
       "      <td>2020-02-15</td>\n",
       "    </tr>\n",
       "    <tr>\n",
       "      <th>32</th>\n",
       "      <td>CLI01516</td>\n",
       "      <td>1_LABIX</td>\n",
       "      <td>01-FEB-20</td>\n",
       "      <td>14-FEB-20</td>\n",
       "      <td>14-FEB-20</td>\n",
       "      <td>6.601273</td>\n",
       "      <td>139.197</td>\n",
       "      <td>6513.36</td>\n",
       "      <td>986.682</td>\n",
       "      <td>IND</td>\n",
       "      <td>2020-02-14</td>\n",
       "    </tr>\n",
       "    <tr>\n",
       "      <th>43</th>\n",
       "      <td>CLI01516</td>\n",
       "      <td>1_LABIX</td>\n",
       "      <td>01-FEB-20</td>\n",
       "      <td>13-FEB-20</td>\n",
       "      <td>13-FEB-20</td>\n",
       "      <td>6.644149</td>\n",
       "      <td>145.291</td>\n",
       "      <td>6514.25</td>\n",
       "      <td>980.449</td>\n",
       "      <td>IND</td>\n",
       "      <td>2020-02-13</td>\n",
       "    </tr>\n",
       "  </tbody>\n",
       "</table>\n",
       "</div>"
      ],
      "text/plain": [
       "   CLIENT_ID CLIENT_FID     BMONTH  FROM_DATE    TO_DATE    VOLUME     MASS  \\\n",
       "0   CLI01516    1_LABIX  01-FEB-20  17-FEB-20  17-FEB-20  6.512143  135.585   \n",
       "10  CLI01516    1_LABIX  01-FEB-20  16-FEB-20  16-FEB-20  6.600123  139.082   \n",
       "21  CLI01516    1_LABIX  01-FEB-20  15-FEB-20  15-FEB-20  6.583986  140.921   \n",
       "32  CLI01516    1_LABIX  01-FEB-20  14-FEB-20  14-FEB-20  6.601273  139.197   \n",
       "43  CLI01516    1_LABIX  01-FEB-20  13-FEB-20  13-FEB-20  6.644149  145.291   \n",
       "\n",
       "     ENERGY       HV CLIENT_TYPE  from_date  \n",
       "0   6472.81  993.960         IND 2020-02-17  \n",
       "10  6494.71  984.029         IND 2020-02-16  \n",
       "21  6501.28  987.438         IND 2020-02-15  \n",
       "32  6513.36  986.682         IND 2020-02-14  \n",
       "43  6514.25  980.449         IND 2020-02-13  "
      ]
     },
     "execution_count": 14,
     "metadata": {},
     "output_type": "execute_result"
    }
   ],
   "source": [
    "df3.head()"
   ]
  },
  {
   "cell_type": "code",
   "execution_count": 15,
   "metadata": {},
   "outputs": [],
   "source": [
    "df4=df3.loc[:,['from_date','VOLUME','ENERGY']]"
   ]
  },
  {
   "cell_type": "code",
   "execution_count": 16,
   "metadata": {},
   "outputs": [
    {
     "data": {
      "text/html": [
       "<div>\n",
       "<style scoped>\n",
       "    .dataframe tbody tr th:only-of-type {\n",
       "        vertical-align: middle;\n",
       "    }\n",
       "\n",
       "    .dataframe tbody tr th {\n",
       "        vertical-align: top;\n",
       "    }\n",
       "\n",
       "    .dataframe thead th {\n",
       "        text-align: right;\n",
       "    }\n",
       "</style>\n",
       "<table border=\"1\" class=\"dataframe\">\n",
       "  <thead>\n",
       "    <tr style=\"text-align: right;\">\n",
       "      <th></th>\n",
       "      <th>from_date</th>\n",
       "      <th>VOLUME</th>\n",
       "      <th>ENERGY</th>\n",
       "    </tr>\n",
       "  </thead>\n",
       "  <tbody>\n",
       "    <tr>\n",
       "      <th>0</th>\n",
       "      <td>2020-02-17</td>\n",
       "      <td>6.512143</td>\n",
       "      <td>6472.81</td>\n",
       "    </tr>\n",
       "    <tr>\n",
       "      <th>10</th>\n",
       "      <td>2020-02-16</td>\n",
       "      <td>6.600123</td>\n",
       "      <td>6494.71</td>\n",
       "    </tr>\n",
       "    <tr>\n",
       "      <th>21</th>\n",
       "      <td>2020-02-15</td>\n",
       "      <td>6.583986</td>\n",
       "      <td>6501.28</td>\n",
       "    </tr>\n",
       "    <tr>\n",
       "      <th>32</th>\n",
       "      <td>2020-02-14</td>\n",
       "      <td>6.601273</td>\n",
       "      <td>6513.36</td>\n",
       "    </tr>\n",
       "    <tr>\n",
       "      <th>43</th>\n",
       "      <td>2020-02-13</td>\n",
       "      <td>6.644149</td>\n",
       "      <td>6514.25</td>\n",
       "    </tr>\n",
       "  </tbody>\n",
       "</table>\n",
       "</div>"
      ],
      "text/plain": [
       "    from_date    VOLUME   ENERGY\n",
       "0  2020-02-17  6.512143  6472.81\n",
       "10 2020-02-16  6.600123  6494.71\n",
       "21 2020-02-15  6.583986  6501.28\n",
       "32 2020-02-14  6.601273  6513.36\n",
       "43 2020-02-13  6.644149  6514.25"
      ]
     },
     "execution_count": 16,
     "metadata": {},
     "output_type": "execute_result"
    }
   ],
   "source": [
    "df4.head()"
   ]
  },
  {
   "cell_type": "code",
   "execution_count": 17,
   "metadata": {},
   "outputs": [
    {
     "data": {
      "text/plain": [
       "array([[<matplotlib.axes._subplots.AxesSubplot object at 0x7fb6a1f563c8>,\n",
       "        <matplotlib.axes._subplots.AxesSubplot object at 0x7fb6a1dd2978>]],\n",
       "      dtype=object)"
      ]
     },
     "execution_count": 17,
     "metadata": {},
     "output_type": "execute_result"
    },
    {
     "data": {
      "image/png": "[encoded data removed]",
      "text/plain": [
       "<Figure size 864x432 with 2 Axes>"
      ]
     },
     "metadata": {
      "needs_background": "light"
     },
     "output_type": "display_data"
    }
   ],
   "source": [
    "df4.hist(figsize=(12,6))"
   ]
  },
  {
   "cell_type": "code",
   "execution_count": 22,
   "metadata": {},
   "outputs": [
    {
     "data": {
      "text/html": [
       "<div>\n",
       "<style scoped>\n",
       "    .dataframe tbody tr th:only-of-type {\n",
       "        vertical-align: middle;\n",
       "    }\n",
       "\n",
       "    .dataframe tbody tr th {\n",
       "        vertical-align: top;\n",
       "    }\n",
       "\n",
       "    .dataframe thead th {\n",
       "        text-align: right;\n",
       "    }\n",
       "</style>\n",
       "<table border=\"1\" class=\"dataframe\">\n",
       "  <thead>\n",
       "    <tr style=\"text-align: right;\">\n",
       "      <th></th>\n",
       "      <th>VOLUME</th>\n",
       "      <th>ENERGY</th>\n",
       "    </tr>\n",
       "    <tr>\n",
       "      <th>from_date</th>\n",
       "      <th></th>\n",
       "      <th></th>\n",
       "    </tr>\n",
       "  </thead>\n",
       "  <tbody>\n",
       "    <tr>\n",
       "      <th>2020-02-17</th>\n",
       "      <td>6.512143</td>\n",
       "      <td>6472.81</td>\n",
       "    </tr>\n",
       "    <tr>\n",
       "      <th>2020-02-16</th>\n",
       "      <td>6.600123</td>\n",
       "      <td>6494.71</td>\n",
       "    </tr>\n",
       "    <tr>\n",
       "      <th>2020-02-15</th>\n",
       "      <td>6.583986</td>\n",
       "      <td>6501.28</td>\n",
       "    </tr>\n",
       "    <tr>\n",
       "      <th>2020-02-14</th>\n",
       "      <td>6.601273</td>\n",
       "      <td>6513.36</td>\n",
       "    </tr>\n",
       "    <tr>\n",
       "      <th>2020-02-13</th>\n",
       "      <td>6.644149</td>\n",
       "      <td>6514.25</td>\n",
       "    </tr>\n",
       "  </tbody>\n",
       "</table>\n",
       "</div>"
      ],
      "text/plain": [
       "              VOLUME   ENERGY\n",
       "from_date                    \n",
       "2020-02-17  6.512143  6472.81\n",
       "2020-02-16  6.600123  6494.71\n",
       "2020-02-15  6.583986  6501.28\n",
       "2020-02-14  6.601273  6513.36\n",
       "2020-02-13  6.644149  6514.25"
      ]
     },
     "execution_count": 22,
     "metadata": {},
     "output_type": "execute_result"
    }
   ],
   "source": [
    "df4.set_index(df4.from_date,inplace=True)\n",
    "df4.drop(['from_date'],axis=1,inplace=True)\n",
    "df4.head()"
   ]
  },
  {
   "cell_type": "code",
   "execution_count": 23,
   "metadata": {},
   "outputs": [
    {
     "name": "stdout",
     "output_type": "stream",
     "text": [
      "<class 'pandas.core.frame.DataFrame'>\n",
      "DatetimeIndex: 438 entries, 2020-02-17 to 2018-12-01\n",
      "Data columns (total 2 columns):\n",
      " #   Column  Non-Null Count  Dtype  \n",
      "---  ------  --------------  -----  \n",
      " 0   VOLUME  438 non-null    float64\n",
      " 1   ENERGY  438 non-null    float64\n",
      "dtypes: float64(2)\n",
      "memory usage: 10.3 KB\n"
     ]
    }
   ],
   "source": [
    "df4.info()"
   ]
  },
  {
   "cell_type": "code",
   "execution_count": 27,
   "metadata": {},
   "outputs": [
    {
     "data": {
      "text/plain": [
       "array([<matplotlib.axes._subplots.AxesSubplot object at 0x7fb69cf36048>,\n",
       "       <matplotlib.axes._subplots.AxesSubplot object at 0x7fb69d02afd0>],\n",
       "      dtype=object)"
      ]
     },
     "execution_count": 27,
     "metadata": {},
     "output_type": "execute_result"
    },
    {
     "data": {
      "image/png": "[encoded data removed]",
      "text/plain": [
       "<Figure size 1728x720 with 2 Axes>"
      ]
     },
     "metadata": {
      "needs_background": "light"
     },
     "output_type": "display_data"
    }
   ],
   "source": [
    "import warnings\n",
    "import numpy as np\n",
    "warnings.filterwarnings('ignore')\n",
    "df4.plot(subplots=True, figsize=(24, 10),rot=90)"
   ]
  },
  {
   "cell_type": "code",
   "execution_count": 28,
   "metadata": {},
   "outputs": [],
   "source": [
    "df5=pd.read_excel('export-DWH.VW_AMR_DATA_FLOW_VOLUME_MMSCFD-AI.xlsx')"
   ]
  },
  {
   "cell_type": "code",
   "execution_count": 32,
   "metadata": {},
   "outputs": [
    {
     "data": {
      "text/html": [
       "<div>\n",
       "<style scoped>\n",
       "    .dataframe tbody tr th:only-of-type {\n",
       "        vertical-align: middle;\n",
       "    }\n",
       "\n",
       "    .dataframe tbody tr th {\n",
       "        vertical-align: top;\n",
       "    }\n",
       "\n",
       "    .dataframe thead th {\n",
       "        text-align: right;\n",
       "    }\n",
       "</style>\n",
       "<table border=\"1\" class=\"dataframe\">\n",
       "  <thead>\n",
       "    <tr style=\"text-align: right;\">\n",
       "      <th></th>\n",
       "      <th>TIME</th>\n",
       "      <th>METER_NAME</th>\n",
       "      <th>CORRECTED_VOLUME</th>\n",
       "      <th>UNCORRECTED_VOLUME</th>\n",
       "    </tr>\n",
       "  </thead>\n",
       "  <tbody>\n",
       "    <tr>\n",
       "      <th>0</th>\n",
       "      <td>27-FEB-20</td>\n",
       "      <td>LABIX</td>\n",
       "      <td>6.467146</td>\n",
       "      <td>0.768483</td>\n",
       "    </tr>\n",
       "    <tr>\n",
       "      <th>2</th>\n",
       "      <td>26-FEB-20</td>\n",
       "      <td>LABIX</td>\n",
       "      <td>6.493067</td>\n",
       "      <td>0.770108</td>\n",
       "    </tr>\n",
       "    <tr>\n",
       "      <th>4</th>\n",
       "      <td>25-FEB-20</td>\n",
       "      <td>LABIX</td>\n",
       "      <td>6.511395</td>\n",
       "      <td>0.771202</td>\n",
       "    </tr>\n",
       "    <tr>\n",
       "      <th>6</th>\n",
       "      <td>24-FEB-20</td>\n",
       "      <td>LABIX</td>\n",
       "      <td>6.473573</td>\n",
       "      <td>0.765375</td>\n",
       "    </tr>\n",
       "    <tr>\n",
       "      <th>8</th>\n",
       "      <td>23-FEB-20</td>\n",
       "      <td>LABIX</td>\n",
       "      <td>6.524461</td>\n",
       "      <td>0.771167</td>\n",
       "    </tr>\n",
       "  </tbody>\n",
       "</table>\n",
       "</div>"
      ],
      "text/plain": [
       "        TIME METER_NAME  CORRECTED_VOLUME  UNCORRECTED_VOLUME\n",
       "0  27-FEB-20      LABIX          6.467146            0.768483\n",
       "2  26-FEB-20      LABIX          6.493067            0.770108\n",
       "4  25-FEB-20      LABIX          6.511395            0.771202\n",
       "6  24-FEB-20      LABIX          6.473573            0.765375\n",
       "8  23-FEB-20      LABIX          6.524461            0.771167"
      ]
     },
     "execution_count": 32,
     "metadata": {},
     "output_type": "execute_result"
    }
   ],
   "source": [
    "df6=df5[df5.METER_NAME=='LABIX']\n",
    "df6.head()"
   ]
  },
  {
   "cell_type": "code",
   "execution_count": 47,
   "metadata": {},
   "outputs": [
    {
     "data": {
      "text/html": [
       "<div>\n",
       "<style scoped>\n",
       "    .dataframe tbody tr th:only-of-type {\n",
       "        vertical-align: middle;\n",
       "    }\n",
       "\n",
       "    .dataframe tbody tr th {\n",
       "        vertical-align: top;\n",
       "    }\n",
       "\n",
       "    .dataframe thead th {\n",
       "        text-align: right;\n",
       "    }\n",
       "</style>\n",
       "<table border=\"1\" class=\"dataframe\">\n",
       "  <thead>\n",
       "    <tr style=\"text-align: right;\">\n",
       "      <th></th>\n",
       "      <th>CORRECTED_VOLUME</th>\n",
       "    </tr>\n",
       "    <tr>\n",
       "      <th>time</th>\n",
       "      <th></th>\n",
       "    </tr>\n",
       "  </thead>\n",
       "  <tbody>\n",
       "    <tr>\n",
       "      <th>2020-02-27</th>\n",
       "      <td>6.467146</td>\n",
       "    </tr>\n",
       "    <tr>\n",
       "      <th>2020-02-26</th>\n",
       "      <td>6.493067</td>\n",
       "    </tr>\n",
       "    <tr>\n",
       "      <th>2020-02-25</th>\n",
       "      <td>6.511395</td>\n",
       "    </tr>\n",
       "    <tr>\n",
       "      <th>2020-02-24</th>\n",
       "      <td>6.473573</td>\n",
       "    </tr>\n",
       "    <tr>\n",
       "      <th>2020-02-23</th>\n",
       "      <td>6.524461</td>\n",
       "    </tr>\n",
       "  </tbody>\n",
       "</table>\n",
       "</div>"
      ],
      "text/plain": [
       "            CORRECTED_VOLUME\n",
       "time                        \n",
       "2020-02-27          6.467146\n",
       "2020-02-26          6.493067\n",
       "2020-02-25          6.511395\n",
       "2020-02-24          6.473573\n",
       "2020-02-23          6.524461"
      ]
     },
     "execution_count": 47,
     "metadata": {},
     "output_type": "execute_result"
    }
   ],
   "source": [
    "df6['time']=pd.to_datetime(df6.TIME,format='%d-%b-%y')\n",
    "df7=df6.loc[:,['time','CORRECTED_VOLUME']]\n",
    "df8=df7.set_index(df7.time).drop(['time'],axis=1)\n",
    "df8.head()"
   ]
  },
  {
   "cell_type": "code",
   "execution_count": 75,
   "metadata": {},
   "outputs": [
    {
     "data": {
      "text/html": [
       "<div>\n",
       "<style scoped>\n",
       "    .dataframe tbody tr th:only-of-type {\n",
       "        vertical-align: middle;\n",
       "    }\n",
       "\n",
       "    .dataframe tbody tr th {\n",
       "        vertical-align: top;\n",
       "    }\n",
       "\n",
       "    .dataframe thead th {\n",
       "        text-align: right;\n",
       "    }\n",
       "</style>\n",
       "<table border=\"1\" class=\"dataframe\">\n",
       "  <thead>\n",
       "    <tr style=\"text-align: right;\">\n",
       "      <th></th>\n",
       "      <th>ENERGY</th>\n",
       "    </tr>\n",
       "    <tr>\n",
       "      <th>TIME</th>\n",
       "      <th></th>\n",
       "    </tr>\n",
       "  </thead>\n",
       "  <tbody>\n",
       "    <tr>\n",
       "      <th>2020-03-09</th>\n",
       "      <td>6310.583083</td>\n",
       "    </tr>\n",
       "    <tr>\n",
       "      <th>2020-03-08</th>\n",
       "      <td>6413.079223</td>\n",
       "    </tr>\n",
       "    <tr>\n",
       "      <th>2020-03-07</th>\n",
       "      <td>6378.516163</td>\n",
       "    </tr>\n",
       "    <tr>\n",
       "      <th>2020-03-06</th>\n",
       "      <td>6535.014890</td>\n",
       "    </tr>\n",
       "    <tr>\n",
       "      <th>2020-03-05</th>\n",
       "      <td>6531.541039</td>\n",
       "    </tr>\n",
       "  </tbody>\n",
       "</table>\n",
       "</div>"
      ],
      "text/plain": [
       "                 ENERGY\n",
       "TIME                   \n",
       "2020-03-09  6310.583083\n",
       "2020-03-08  6413.079223\n",
       "2020-03-07  6378.516163\n",
       "2020-03-06  6535.014890\n",
       "2020-03-05  6531.541039"
      ]
     },
     "execution_count": 75,
     "metadata": {},
     "output_type": "execute_result"
    }
   ],
   "source": [
    "from datetime import timedelta \n",
    "df9=pd.read_excel('export-DWH.VW_AMR_DATA_FLOW_ENERGY-AI.xlsx')\n",
    "df10=df9[df9.METER_NAME=='LABIX']\n",
    "df10['TIME']=pd.to_datetime(df10.TIME,format='%d-%b-%y %I.%M.%S.000000000 %p')#-timedelta(days = 1)\n",
    "df11=df10.set_index(df10.TIME).drop(['TIME','METER_NAME'],axis=1)\n",
    "df11.head()"
   ]
  },
  {
   "cell_type": "code",
   "execution_count": 83,
   "metadata": {},
   "outputs": [
    {
     "data": {
      "text/html": [
       "<div>\n",
       "<style scoped>\n",
       "    .dataframe tbody tr th:only-of-type {\n",
       "        vertical-align: middle;\n",
       "    }\n",
       "\n",
       "    .dataframe tbody tr th {\n",
       "        vertical-align: top;\n",
       "    }\n",
       "\n",
       "    .dataframe thead th {\n",
       "        text-align: right;\n",
       "    }\n",
       "</style>\n",
       "<table border=\"1\" class=\"dataframe\">\n",
       "  <thead>\n",
       "    <tr style=\"text-align: right;\">\n",
       "      <th></th>\n",
       "      <th>VOLUME</th>\n",
       "      <th>ENERGY_x</th>\n",
       "      <th>CORRECTED_VOLUME</th>\n",
       "      <th>ENERGY_y</th>\n",
       "    </tr>\n",
       "  </thead>\n",
       "  <tbody>\n",
       "    <tr>\n",
       "      <th>2020-02-17</th>\n",
       "      <td>6.512143</td>\n",
       "      <td>6472.81</td>\n",
       "      <td>6.398882</td>\n",
       "      <td>6279.611416</td>\n",
       "    </tr>\n",
       "    <tr>\n",
       "      <th>2020-02-16</th>\n",
       "      <td>6.600123</td>\n",
       "      <td>6494.71</td>\n",
       "      <td>6.485333</td>\n",
       "      <td>6364.450423</td>\n",
       "    </tr>\n",
       "    <tr>\n",
       "      <th>2020-02-15</th>\n",
       "      <td>6.583986</td>\n",
       "      <td>6501.28</td>\n",
       "      <td>6.469476</td>\n",
       "      <td>6348.889674</td>\n",
       "    </tr>\n",
       "    <tr>\n",
       "      <th>2020-02-14</th>\n",
       "      <td>6.601273</td>\n",
       "      <td>6513.36</td>\n",
       "      <td>6.486463</td>\n",
       "      <td>6365.559430</td>\n",
       "    </tr>\n",
       "    <tr>\n",
       "      <th>2020-02-13</th>\n",
       "      <td>6.644149</td>\n",
       "      <td>6514.25</td>\n",
       "      <td>6.528593</td>\n",
       "      <td>6406.904583</td>\n",
       "    </tr>\n",
       "  </tbody>\n",
       "</table>\n",
       "</div>"
      ],
      "text/plain": [
       "              VOLUME  ENERGY_x  CORRECTED_VOLUME     ENERGY_y\n",
       "2020-02-17  6.512143   6472.81          6.398882  6279.611416\n",
       "2020-02-16  6.600123   6494.71          6.485333  6364.450423\n",
       "2020-02-15  6.583986   6501.28          6.469476  6348.889674\n",
       "2020-02-14  6.601273   6513.36          6.486463  6365.559430\n",
       "2020-02-13  6.644149   6514.25          6.528593  6406.904583"
      ]
     },
     "execution_count": 83,
     "metadata": {},
     "output_type": "execute_result"
    }
   ],
   "source": [
    "#4,8,11\n",
    "df12=df4.merge(df8,how='inner',left_index=True,right_index=True)\\\n",
    "    .merge(df11,how='inner',left_index=True,right_index=True)\n",
    "df12.head()"
   ]
  },
  {
   "cell_type": "code",
   "execution_count": 89,
   "metadata": {},
   "outputs": [
    {
     "data": {
      "text/plain": [
       "<matplotlib.axes._subplots.AxesSubplot at 0x7fb69d2e7be0>"
      ]
     },
     "execution_count": 89,
     "metadata": {},
     "output_type": "execute_result"
    },
    {
     "data": {
      "image/png": "[encoded data removed]",
      "text/plain": [
       "<Figure size 1728x360 with 1 Axes>"
      ]
     },
     "metadata": {
      "needs_background": "light"
     },
     "output_type": "display_data"
    },
    {
     "data": {
      "image/png": "[encoded data removed]",
      "text/plain": [
       "<Figure size 1728x360 with 1 Axes>"
      ]
     },
     "metadata": {
      "needs_background": "light"
     },
     "output_type": "display_data"
    }
   ],
   "source": [
    "df12.loc[:,['VOLUME','CORRECTED_VOLUME']].plot(subplots=False,figsize=(24, 5))\n",
    "df12.loc[:,['ENERGY_x','ENERGY_y']].plot(subplots=False,figsize=(24, 5))"
   ]
  },
  {
   "cell_type": "code",
   "execution_count": null,
   "metadata": {},
   "outputs": [],
   "source": []
  }
 ],
 "metadata": {
  "kernelspec": {
   "display_name": "Python 3",
   "language": "python",
   "name": "python3"
  },
  "language_info": {
   "codemirror_mode": {
    "name": "ipython",
    "version": 3
   },
   "file_extension": ".py",
   "mimetype": "text/x-python",
   "name": "python",
   "nbconvert_exporter": "python",
   "pygments_lexer": "ipython3",
   "version": "3.6.10"
  }
 },
 "nbformat": 4,
 "nbformat_minor": 4
}
